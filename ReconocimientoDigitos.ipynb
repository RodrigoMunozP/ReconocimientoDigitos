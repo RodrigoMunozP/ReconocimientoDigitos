{
  "nbformat": 4,
  "nbformat_minor": 0,
  "metadata": {
    "colab": {
      "provenance": [],
      "gpuType": "T4",
      "authorship_tag": "ABX9TyNV9Ae8v7A2I2GGXsL9+20t",
      "include_colab_link": true
    },
    "kernelspec": {
      "name": "python3",
      "display_name": "Python 3"
    },
    "language_info": {
      "name": "python"
    },
    "accelerator": "GPU"
  },
  "cells": [
    {
      "cell_type": "markdown",
      "metadata": {
        "id": "view-in-github",
        "colab_type": "text"
      },
      "source": [
        "<a href=\"https://colab.research.google.com/github/RodrigoMunozP/ReconocimientoDigitos/blob/main/ReconocimientoDigitos.ipynb\" target=\"_parent\"><img src=\"https://colab.research.google.com/assets/colab-badge.svg\" alt=\"Open In Colab\"/></a>"
      ]
    },
    {
      "cell_type": "code",
      "execution_count": null,
      "metadata": {
        "id": "Qy8lktnMVpFw"
      },
      "outputs": [],
      "source": [
        "import numpy as np\n",
        "import tensorflow as tf\n",
        "import matplotlib.pyplot as plt\n",
        "from tensorflow.keras.models import Sequential\n",
        "from tensorflow.keras.datasets import mnist\n",
        "from tensorflow.keras.layers import Dense, Dropout, Flatten, Conv2D, MaxPooling2D\n",
        "from tensorflow.keras.utils import to_categorical\n",
        "from tensorflow.keras.preprocessing.image import ImageDataGenerator"
      ]
    },
    {
      "cell_type": "code",
      "source": [
        "seed=10\n",
        "np.random.seed(seed)\n",
        "tf.random.set_seed(seed)  # Fijar semilla para TensorFlow\n",
        "(X_train,y_train), (X_test, y_test)= mnist.load_data()\n"
      ],
      "metadata": {
        "id": "6f_c6QY7fsNi",
        "colab": {
          "base_uri": "https://localhost:8080/"
        },
        "outputId": "3abb9876-7a94-4fbb-f229-d0157e28a02e"
      },
      "execution_count": null,
      "outputs": [
        {
          "output_type": "stream",
          "name": "stdout",
          "text": [
            "Downloading data from https://storage.googleapis.com/tensorflow/tf-keras-datasets/mnist.npz\n",
            "11490434/11490434 [==============================] - 0s 0us/step\n"
          ]
        }
      ]
    },
    {
      "cell_type": "code",
      "source": [
        "def plot_images(images, labels, num_rows=2, num_cols=5):\n",
        "    \"\"\"Función para trazar imágenes del conjunto de datos con sus etiquetas.\"\"\"\n",
        "    fig, axes = plt.subplots(num_rows, num_cols, figsize=(num_cols * 2, num_rows * 2))\n",
        "    for i, ax in enumerate(axes.flat):\n",
        "        if i < len(images):\n",
        "            ax.imshow(images[i], cmap='gray')\n",
        "            ax.set_title(f\"Label: {labels[i]}\", fontsize=6)  # Ajusta el tamaño de la fuente aquí\n",
        "\n",
        "        ax.axis('off')\n",
        "    plt.show()\n",
        "\n",
        "# Mostrar las primeras 10 imágenes y sus etiquetas\n",
        "plot_images(X_train, y_train, num_rows=2, num_cols=5)"
      ],
      "metadata": {
        "colab": {
          "base_uri": "https://localhost:8080/",
          "height": 353
        },
        "id": "c6go96oLXOt5",
        "outputId": "73f6b585-2489-478d-f8f5-a8c89c34b7ab"
      },
      "execution_count": null,
      "outputs": [
        {
          "output_type": "display_data",
          "data": {
            "text/plain": [
              "<Figure size 1000x400 with 10 Axes>"
            ],
            "image/png": "[encoded data removed]"
          },
          "metadata": {}
        }
      ]
    },
    {
      "cell_type": "code",
      "source": [
        "    datagen = ImageDataGenerator(\n",
        "    rotation_range=10,          # Rango de rotación en grados\n",
        "    width_shift_range=0.1,      # Desplazamiento horizontal fracción de la anchura total\n",
        "    height_shift_range=0.1,     # Desplazamiento vertical fracción de la altura total\n",
        "    shear_range=0.2,            # Intensidad de la deformación de corte\n",
        "    zoom_range=0.2,             # Rango de zoom\n",
        "    horizontal_flip=True,       # Volteo horizontal aleatorio\n",
        "    vertical_flip=False,        # No utilizar volteo vertical en imágenes de dígitos\n",
        "    rescale=1./255\n",
        ")"
      ],
      "metadata": {
        "id": "WBVIt7F8J_Kc"
      },
      "execution_count": null,
      "outputs": []
    },
    {
      "cell_type": "code",
      "source": [
        "X_train=X_train.reshape(X_train.shape[0],28,28,1).astype('float32')\n",
        "X_test=X_test.reshape(X_test.shape[0],28,28,1).astype('float32')"
      ],
      "metadata": {
        "id": "QsHkfdIhjn6K"
      },
      "execution_count": null,
      "outputs": []
    },
    {
      "cell_type": "code",
      "source": [
        "y_train= to_categorical(y_train)\n",
        "y_test= to_categorical(y_test)\n",
        "num_classes=y_train.shape[1]\n"
      ],
      "metadata": {
        "id": "1yzEsWmoFrE5"
      },
      "execution_count": null,
      "outputs": []
    },
    {
      "cell_type": "code",
      "source": [
        "def cnn_model():\n",
        "    model=Sequential()\n",
        "    model.add(Conv2D(32,(5,5), padding='same',input_shape=(28,28,1), activation='relu'))\n",
        "    model.add(MaxPooling2D(pool_size=(2,2), padding='same'))\n",
        "    model.add(Dropout(0.2))\n",
        "    model.add(Conv2D(64,(5,5), padding='same', activation='relu'))\n",
        "    model.add(MaxPooling2D(pool_size=(2,2), padding='same'))\n",
        "    model.add(Dropout(0.2))\n",
        "    model.add(Flatten())\n",
        "    model.add(Dense(128, activation='relu'))\n",
        "    model.add(Dropout(0.2))\n",
        "    model.add(Dense(num_classes, activation='softmax'))\n",
        "    model.compile(loss='categorical_crossentropy', optimizer='adam', metrics=['accuracy'])\n",
        "    return model"
      ],
      "metadata": {
        "id": "0AS3hz86FumG"
      },
      "execution_count": null,
      "outputs": []
    },
    {
      "cell_type": "code",
      "source": [
        "datagen.fit(X_train)"
      ],
      "metadata": {
        "id": "uBNJGr5NKh94"
      },
      "execution_count": null,
      "outputs": []
    },
    {
      "cell_type": "code",
      "source": [
        "model=cnn_model()\n",
        "model.fit(datagen.flow(X_train, y_train, batch_size=512), validation_data=(X_test, y_test), epochs=5, verbose=2)\n",
        "score= model.evaluate(X_test, y_test, verbose=0)\n",
        "print('The error is: %.2f%%'%(100-score[1]*100))"
      ],
      "metadata": {
        "colab": {
          "base_uri": "https://localhost:8080/"
        },
        "id": "O-8slC-4F44j",
        "outputId": "da686efa-491a-4bf5-b656-2df479829f01"
      },
      "execution_count": null,
      "outputs": [
        {
          "output_type": "stream",
          "name": "stdout",
          "text": [
            "Epoch 1/5\n",
            "118/118 - 24s - loss: 0.9234 - accuracy: 0.6855 - val_loss: 25.5891 - val_accuracy: 0.9305 - 24s/epoch - 204ms/step\n",
            "Epoch 2/5\n",
            "118/118 - 19s - loss: 0.3771 - accuracy: 0.8787 - val_loss: 16.2116 - val_accuracy: 0.9599 - 19s/epoch - 162ms/step\n",
            "Epoch 3/5\n",
            "118/118 - 19s - loss: 0.2676 - accuracy: 0.9165 - val_loss: 10.1508 - val_accuracy: 0.9738 - 19s/epoch - 159ms/step\n",
            "Epoch 4/5\n",
            "118/118 - 19s - loss: 0.2178 - accuracy: 0.9323 - val_loss: 10.0755 - val_accuracy: 0.9747 - 19s/epoch - 162ms/step\n",
            "Epoch 5/5\n",
            "118/118 - 19s - loss: 0.1795 - accuracy: 0.9447 - val_loss: 8.2497 - val_accuracy: 0.9797 - 19s/epoch - 163ms/step\n",
            "The error is: 2.03%\n"
          ]
        }
      ]
    },
    {
      "cell_type": "code",
      "source": [],
      "metadata": {
        "id": "MDJITOI8P3gu"
      },
      "execution_count": null,
      "outputs": []
    }
  ]
}